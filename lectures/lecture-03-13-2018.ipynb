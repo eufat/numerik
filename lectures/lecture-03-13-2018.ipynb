{
 "cells": [
  {
   "cell_type": "code",
   "execution_count": 28,
   "metadata": {},
   "outputs": [
    {
     "name": "stdout",
     "output_type": "stream",
     "text": [
      "Created file 'C:\\Users\\user\\Documents\\MATLAB\\lectures\\fungsi.m'.\n"
     ]
    }
   ],
   "source": [
    "%%file fungsi.m\n",
    "\n",
    "function Y = fungsi(x)\n",
    "    Y = 1.9520e-14 * (x^4)  - 9.5838e-11 * (x^3) + 9.7215e-8 * (x^2) + 1.671e-4 * x + 0.99403 - 1.2;\n",
    "end"
   ]
  },
  {
   "cell_type": "code",
   "execution_count": 29,
   "metadata": {},
   "outputs": [
    {
     "name": "stdout",
     "output_type": "stream",
     "text": [
      "Created file 'C:\\Users\\user\\Documents\\MATLAB\\lectures\\bisection.m'.\n"
     ]
    }
   ],
   "source": [
    "%%file bisection.m\n",
    "\n",
    "function akar = bisection(a, b);\n",
    "\n",
    "toleransi = 1e-10;\n",
    "itermax = 5000;\n",
    "kesrel = 1;\n",
    "\n",
    "c = 0.5 * (a + b);\n",
    "\n",
    "while kesrel > toleransi\n",
    "    if fungsi(a) * fungsi(c) < 0\n",
    "        b = c;\n",
    "    else\n",
    "        a = c;\n",
    "    end\n",
    "    \n",
    "    akar = 0.5 * (a + b);\n",
    "    kesrel = abs((c - akar)/akar);\n",
    "    \n",
    "    c = akar;\n",
    "end"
   ]
  },
  {
   "cell_type": "code",
   "execution_count": 42,
   "metadata": {},
   "outputs": [
    {
     "name": "stdout",
     "output_type": "stream",
     "text": [
      "\n"
     ]
    },
    {
     "data": {
      "image/png": "[encoded data removed]",
      "text/plain": [
       "<IPython.core.display.Image object>"
      ]
     },
     "metadata": {},
     "output_type": "display_data"
    }
   ],
   "source": [
    "a = 800;\n",
    "b = 1200;\n",
    "\n",
    "x = 800:1200;\n",
    "y = fungsi(x);\n",
    "\n",
    "akar = bisection(a, b);\n",
    "\n",
    "plot(x,y)\n",
    "akar"
   ]
  },
  {
   "cell_type": "code",
   "execution_count": 47,
   "metadata": {},
   "outputs": [
    {
     "name": "stdout",
     "output_type": "stream",
     "text": [
      "Created file 'C:\\Users\\user\\Documents\\MATLAB\\lectures\\test-elgauss.m'.\n"
     ]
    }
   ],
   "source": [
    "%%file test-elgauss.m\n",
    "A = [6 -4 0; 6 0 2; 1 1 -1]\n",
    "B = [24; 10; 0]\n",
    "\n",
    "hasil = elgauss(A,B);\n",
    "hasil"
   ]
  },
  {
   "cell_type": "code",
   "execution_count": null,
   "metadata": {},
   "outputs": [],
   "source": []
  }
 ],
 "metadata": {
  "kernelspec": {
   "display_name": "Matlab",
   "language": "matlab",
   "name": "matlab"
  },
  "language_info": {
   "codemirror_mode": "octave",
   "file_extension": ".m",
   "help_links": [
    {
     "text": "MetaKernel Magics",
     "url": "https://github.com/calysto/metakernel/blob/master/metakernel/magics/README.md"
    }
   ],
   "mimetype": "text/x-octave",
   "name": "matlab",
   "version": "0.15.0"
  }
 },
 "nbformat": 4,
 "nbformat_minor": 2
}
