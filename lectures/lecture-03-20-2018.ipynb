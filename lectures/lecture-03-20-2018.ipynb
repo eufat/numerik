{
 "cells": [
  {
   "cell_type": "code",
   "execution_count": null,
   "metadata": {},
   "outputs": [],
   "source": [
    "%%file bisection.m\n",
    "\n",
    "function akar = bisection(a, b)\n",
    "\n",
    "toleransi = 1e-10;\n",
    "itermax = 5000;\n",
    "\n",
    "c = 0.5 * (a + b);\n",
    "\n",
    "for i = 1:itermax\n",
    "    if fungsi(a) * fungsi(c) < 0\n",
    "        b = c;\n",
    "    else\n",
    "        a = c;\n",
    "    end\n",
    "    \n",
    "    akar = 0.5 * (a + b);\n",
    "    kesrel = abs((c - akar)/akar);\n",
    "    \n",
    "    if kesrel < toleransi\n",
    "        break;\n",
    "    end\n",
    "    \n",
    "    c = akar;\n",
    "end"
   ]
  }
 ],
 "metadata": {
  "kernelspec": {
   "display_name": "Matlab",
   "language": "matlab",
   "name": "matlab"
  },
  "language_info": {
   "codemirror_mode": "octave",
   "file_extension": ".m",
   "help_links": [
    {
     "text": "MetaKernel Magics",
     "url": "https://github.com/calysto/metakernel/blob/master/metakernel/magics/README.md"
    }
   ],
   "mimetype": "text/x-octave",
   "name": "matlab",
   "version": "0.15.0"
  }
 },
 "nbformat": 4,
 "nbformat_minor": 2
}
