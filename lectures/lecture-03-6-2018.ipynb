{
 "cells": [
  {
   "cell_type": "code",
   "execution_count": 46,
   "metadata": {},
   "outputs": [
    {
     "name": "stdout",
     "output_type": "stream",
     "text": [
      "Created file 'C:\\Users\\user\\Documents\\MATLAB\\lectures\\jacobian.m'.\n"
     ]
    }
   ],
   "source": [
    "%%file jacobian.m\n",
    "function J = jacobian(x);\n",
    "    J = [ 3*x(1)^2  4*x(2) -4\n",
    "          2*x(1) 6*x(2) -1\n",
    "          -1/(x(1)^2) -2 x(3) ];\n",
    "end"
   ]
  },
  {
   "cell_type": "code",
   "execution_count": 49,
   "metadata": {},
   "outputs": [
    {
     "name": "stdout",
     "output_type": "stream",
     "text": [
      "Created file 'C:\\Users\\user\\Documents\\MATLAB\\lectures\\fun.m'.\n"
     ]
    }
   ],
   "source": [
    "%%file fun.m\n",
    "function F = fun(x);\n",
    "    F = [ x(1)^3 + 2*x(2)^2 - 4*x(3) - 3\n",
    "          x(1)^2 + 3*x(2)^2 - x(3) - 13\n",
    "          1/(x(1)) - 2*x(2) + x(3)/2 - 36.3333 ];\n",
    "end"
   ]
  },
  {
   "cell_type": "code",
   "execution_count": 52,
   "metadata": {},
   "outputs": [
    {
     "name": "stdout",
     "output_type": "stream",
     "text": [
      "\n",
      "xlama =\n",
      "\n",
      "    5.9735\n",
      "   -3.4557\n",
      "   58.5089\n",
      "\n",
      "\n"
     ]
    }
   ],
   "source": [
    "% Newton-Rhapson first example\n",
    "tolerance = 1e-10;\n",
    "xlama = [ 1 ; 2 ; 1 ];\n",
    "\n",
    "for i = 1:5000\n",
    "    if det(jacobian(xlama )) == 0\n",
    "        xlama = xlama + 1e-6;\n",
    "    end\n",
    "    \n",
    "    xbaru = xlama - inv(jacobian(xlama)) * fun(xlama);\n",
    "    \n",
    "    abserr = abs(xlama - xbaru);\n",
    "    relerr = abs((xlama - xbaru) / xbaru);\n",
    "\n",
    "    if abserr < tolerance & relerr < tolerance\n",
    "        break;\n",
    "    end\n",
    "\n",
    "    xlama = xbaru;\n",
    "end\n",
    "\n",
    "xlama\n"
   ]
  },
  {
   "cell_type": "code",
   "execution_count": 58,
   "metadata": {},
   "outputs": [
    {
     "name": "stdout",
     "output_type": "stream",
     "text": [
      "Created file 'C:\\Users\\user\\Documents\\MATLAB\\lectures\\jacobiantest.m'.\n"
     ]
    }
   ],
   "source": [
    "%%file jacobiantest.m\n",
    "function J = jacobiantest(x);\n",
    "    J = [ 3 x(3)*sin(x(2)*x(3)) x(2)*sin(x(2)*x(3))\n",
    "         1 -1250*x(2) 0\n",
    "         -x(2)*exp(-x(1)*x(2)) -x(1)*exp(-x(1)*x(2)) 20 ];\n",
    "end"
   ]
  },
  {
   "cell_type": "code",
   "execution_count": 59,
   "metadata": {},
   "outputs": [
    {
     "name": "stdout",
     "output_type": "stream",
     "text": [
      "Created file 'C:\\Users\\user\\Documents\\MATLAB\\lectures\\funtest.m'.\n"
     ]
    }
   ],
   "source": [
    "%%file funtest.m\n",
    "function f = funtest(x);\n",
    "    f = [ 3*x(1) - cos(x(2)*x(3)) - 0.5\n",
    "         x(1) - 625*x(2)^2 - 0.25\n",
    "         exp(-x(1)*x(2)) + 20*x(3) + ((10*pi)-3)/3 ];\n",
    "end"
   ]
  },
  {
   "cell_type": "code",
   "execution_count": 61,
   "metadata": {},
   "outputs": [
    {
     "name": "stdout",
     "output_type": "stream",
     "text": [
      "\n",
      "xlama =\n",
      "\n",
      "    0.5000\n",
      "    0.0200\n",
      "   -0.5231\n",
      "\n",
      "\n"
     ]
    }
   ],
   "source": [
    "% Newton-Rhapson second example\n",
    "tolerance = 1e-10;\n",
    "xlama = [ 1 ; 2 ; 1 ];\n",
    "\n",
    "for i = 1:5000\n",
    "    if det(jacobiantest(xlama )) == 0\n",
    "        xlama = xlama + 1e-6;\n",
    "    end\n",
    "    \n",
    "    xbaru = xlama - inv(jacobiantest(xlama)) * funtest(xlama);\n",
    "    \n",
    "    abserr = abs(xlama - xbaru);\n",
    "    relerr = abs((xlama - xbaru) / xbaru);\n",
    "\n",
    "    if abserr < tolerance & relerr < tolerance\n",
    "        break;\n",
    "    end\n",
    "\n",
    "    xlama = xbaru;\n",
    "end\n",
    "\n",
    "xlama"
   ]
  },
  {
   "cell_type": "code",
   "execution_count": 4,
   "metadata": {},
   "outputs": [
    {
     "name": "stdout",
     "output_type": "stream",
     "text": [
      "Created file 'C:\\Users\\user\\Documents\\MATLAB\\lectures\\elgauss.m'.\n"
     ]
    }
   ],
   "source": [
    "%%file elgauss.m\n",
    "function X = elgauss(A,B)\n",
    "      \n",
    "dim = size(B);\n",
    "n = dim(2);\n",
    "B = zeros(n);\n",
    "\n",
    "for i = 1:n\n",
    "    B(i,i) = 1;\n",
    "end\n",
    "\n",
    "X = [];\n",
    " \n",
    "% Remove x1 from P2, P3 and P4\n",
    "dim = size(A);\n",
    "m = dim(1);\n",
    "\n",
    "for k = 1:m-1\n",
    "    for i=k+1:m\n",
    "        lambda = A(i,k) / A(k,k);\n",
    "        for j = k:4\n",
    "            A(i,j) = A(i,j) - lambda * A(k,j);\n",
    "        end\n",
    "        \n",
    "        for r = 1:n\n",
    "            B(i,r) = B(i,r) - lambda * B(k,r);\n",
    "        end\n",
    "    end\n",
    "    % Check diagonal element, if it is 0, change with element beneath it\n",
    "    s = 2;\n",
    "    while A(k+1, k+1) == 0\n",
    "        for p = 1:m\n",
    "            temp = A(k+1, p);\n",
    "            A(k+1, p) = A(k+s, p);\n",
    "            A(k+s, p) = temp;\n",
    "        end\n",
    "        \n",
    "        for q = 1:m\n",
    "            temp = B(q+1);\n",
    "            B(q+1) = B(q+s);\n",
    "            B(q+s) = temp;\n",
    "        end\n",
    "        s = s + 1;\n",
    "    end \n",
    "end\n",
    "\n",
    "% Reverse substitution\n",
    "for r = 1:n\n",
    "    X(m,r) = B(m,r) / A(m,m);\n",
    "    for i=m-1:-1:1\n",
    "        sum = 0;\n",
    "        for j = i+1:m\n",
    "            sum = sum + (A(i,j) * X(j));\n",
    "        end\n",
    "        X(i) = (B(i) - sum) / A(i,i);\n",
    "    end\n",
    "end"
   ]
  },
  {
   "cell_type": "code",
   "execution_count": 3,
   "metadata": {},
   "outputs": [
    {
     "name": "stderr",
     "output_type": "stream",
     "text": [
      "\u001b[1;31mIndex exceeds matrix dimensions.\n",
      "\n",
      "\u001b[0m"
     ]
    }
   ],
   "source": [
    "x = [ 1;2;3;4;5;6;7;8;9;10];\n",
    "y = [1.3;3.5;4.2;5.0;7.0;8.8;10.];\n",
    "\n",
    "dim = size(x);\n",
    "N = dim(1); % data size\n",
    "m = 1; % orde polinomial\n",
    "\n",
    "for k = 0:m\n",
    "    for j = 0:m\n",
    "        sumc = 0.0;\n",
    "        sumb = 0.0;\n",
    "        for i = 1:N\n",
    "            sumc = sumc + x(i)^(j+k);\n",
    "            sumb = sumb + y(i)*x(i)^k;\n",
    "        end\n",
    "        \n",
    "        C(k+1,j+1) = sumc;\n",
    "        B(k+1,1) = sumb;\n",
    "    end\n",
    "end\n",
    "\n",
    "%a = elgauss(C,B)\n",
    "\n",
    "C\n",
    "B"
   ]
  },
  {
   "cell_type": "code",
   "execution_count": null,
   "metadata": {},
   "outputs": [],
   "source": [
    "\n"
   ]
  }
 ],
 "metadata": {
  "kernelspec": {
   "display_name": "Matlab",
   "language": "matlab",
   "name": "matlab"
  },
  "language_info": {
   "codemirror_mode": "octave",
   "file_extension": ".m",
   "help_links": [
    {
     "text": "MetaKernel Magics",
     "url": "https://github.com/calysto/metakernel/blob/master/metakernel/magics/README.md"
    }
   ],
   "mimetype": "text/x-octave",
   "name": "matlab",
   "version": "0.15.0"
  }
 },
 "nbformat": 4,
 "nbformat_minor": 2
}
