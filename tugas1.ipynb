{
 "cells": [
  {
   "cell_type": "code",
   "execution_count": 14,
   "metadata": {},
   "outputs": [
    {
     "name": "stdout",
     "output_type": "stream",
     "text": [
      "Created file 'C:\\Users\\user\\Documents\\MATLAB\\capcurrent.m'.\n"
     ]
    }
   ],
   "source": [
    "%%file capcurrent.m\n",
    "function I = capcurrent(E, f, C);\n",
    "    I = E * ( 2 * pi * f * C);\n",
    "end"
   ]
  },
  {
   "cell_type": "code",
   "execution_count": 15,
   "metadata": {},
   "outputs": [
    {
     "name": "stdout",
     "output_type": "stream",
     "text": [
      "Created file 'C:\\Users\\user\\Documents\\MATLAB\\indcurrent.m'.\n"
     ]
    }
   ],
   "source": [
    "%%file indcurrent.m\n",
    "function I = indcurrent(E, f, L);\n",
    "    I = E / ( 2 * pi * f * L);\n",
    "end"
   ]
  },
  {
   "cell_type": "code",
   "execution_count": 16,
   "metadata": {},
   "outputs": [
    {
     "name": "stdout",
     "output_type": "stream",
     "text": [
      "Created file 'C:\\Users\\user\\Documents\\MATLAB\\acvoltage.m'.\n"
     ]
    }
   ],
   "source": [
    "%%file acvoltage.m\n",
    "function Vt = acvoltage(V, omega, t);\n",
    "    Vt = V * sin(omega * t);\n",
    "end"
   ]
  },
  {
   "cell_type": "code",
   "execution_count": 17,
   "metadata": {},
   "outputs": [
    {
     "name": "stdout",
     "output_type": "stream",
     "text": [
      "Created file 'C:\\Users\\user\\Documents\\MATLAB\\nomor1.m'.\n"
     ]
    }
   ],
   "source": [
    "%%file nomor1.m\n",
    "% Initialize vector\n",
    "It_cap_vect = [];\n",
    "It_ind_vect = [];\n",
    "Vt_cap_vect = [];\n",
    "Vt_ind_vect = [];\n",
    "t_cap_vect = [];\n",
    "t_ind_vect = [];\n",
    "\n",
    "% Initialize constant\n",
    "min_t = 0;\n",
    "delta_t = 0.0001;\n",
    "max_t = 0.1;\n",
    "freq = 60;\n",
    "omega = 2 * pi * freq;\n",
    "V = 150;\n",
    "C = 8 * 0.000001;\n",
    "L = 25 * 0.001;\n",
    "\n",
    "%Calculate for capacitor circuit\n",
    "for t = min_t:delta_t:max_t\n",
    "    Vt = acvoltage(V, omega, t);\n",
    "    It = capcurrent(V, freq, C);\n",
    "    Vt_cap_vect = [Vt_cap_vect, Vt];\n",
    "    It_cap_vect = [It_cap_vect, It];\n",
    "    t_cap_vect = [t_cap_vect, t];\n",
    "end\n",
    "\n",
    "%Calculate for inductor circuit\n",
    "for t = min_t:delta_t:max_t\n",
    "    Vt = acvoltage(V, omega, t);\n",
    "    It = indcurrent(V, freq, L);\n",
    "    Vt_ind_vect = [Vt_ind_vect, Vt];\n",
    "    It_ind_vect = [It_ind_vect, It];\n",
    "    t_ind_vect = [t_ind_vect, t];\n",
    "end\n",
    "\n",
    "figure\n",
    "subplot(4,1,1)                 \n",
    "plot(t_cap_vect, Vt_cap_vect);\n",
    "title('Voltage (V) vs Time (t) on Capacitor');\n",
    "\n",
    "subplot(4,1,2)                      \n",
    "plot(t_cap_vect, It_cap_vect);\n",
    "title('Current (I) vs Time (t) on Capacitor');\n",
    "\n",
    "subplot(4,1,3)                  \n",
    "plot(t_ind_vect, Vt_ind_vect);\n",
    "title('Voltage (V) vs Time (t) on Inductor');\n",
    "\n",
    "subplot(4,1,4)                    \n",
    "plot(t_ind_vect, It_ind_vect);\n",
    "title('Current (I) vs Time (t) on Inductor');"
   ]
  },
  {
   "cell_type": "code",
   "execution_count": 18,
   "metadata": {},
   "outputs": [
    {
     "name": "stdout",
     "output_type": "stream",
     "text": [
      "Created file 'C:\\Users\\user\\Documents\\MATLAB\\nomor2.m'.\n"
     ]
    }
   ],
   "source": [
    "%%file nomor2.m\n",
    "Q = 3e-6; \n",
    "q = -1e-6; \n",
    "eps0 = 8.85e-12; \n",
    "ra = 5; \n",
    "rb = 10; \n",
    "rc = 15;\n",
    "n = 26;\n",
    "\n",
    "rmin = 0;\n",
    "rmax = 26;\n",
    "\n",
    "dr = (rmax - rmin) / (n - 1);\n",
    "\n",
    "for i = 1:n \n",
    "    r(i) = rmin + (i-1) * dr;\n",
    "    if r(i) <= ra \n",
    "        E(i) = (Q * r(i)) / (4 * pi * eps0 * (ra^3)); \n",
    "    elseif ra < r(i) & r(i) <= rb \n",
    "        E(i) = Q / (4 * pi * eps0 * (r(i)^2)); \n",
    "    elseif rb < r(i) & r(i) <= rc \n",
    "        E(i) = 0; \n",
    "    elseif r(i) >= rc \n",
    "        E(i) = (Q + q) / (4 * pi * eps0 * (r(i)^2)); \n",
    "    end; \n",
    "end; \n",
    "\n",
    "plot(r / 100, E * 1000) \n",
    "xlabel('Jarak (m)'); \n",
    "ylabel('Medan Listrik (N/C)'); \n",
    "title('Grafik r vs E');"
   ]
  },
  {
   "cell_type": "code",
   "execution_count": 19,
   "metadata": {},
   "outputs": [
    {
     "name": "stdout",
     "output_type": "stream",
     "text": [
      "Created file 'C:\\Users\\user\\Documents\\MATLAB\\creflection.m'.\n"
     ]
    }
   ],
   "source": [
    "%%file creflection.m\n",
    "function C = creflection(theta, e1, e2);\n",
    "    C = (((e2/e1)*cos(theta))-(((e2/e1)-(sin(theta)^2))^0.5)) / (((e2/e1)*cos(theta))+(((e2/e1)-(sin(theta)^2))^0.5));\n",
    "end"
   ]
  },
  {
   "cell_type": "code",
   "execution_count": 20,
   "metadata": {},
   "outputs": [
    {
     "name": "stdout",
     "output_type": "stream",
     "text": [
      "Created file 'C:\\Users\\user\\Documents\\MATLAB\\nomor3.m'.\n"
     ]
    }
   ],
   "source": [
    "%%file nomor3.m\n",
    "% Initialize constant\n",
    "e1 = 1;\n",
    "e2 = 80;\n",
    "step_theta = 5;\n",
    "delta_theta = 0.1;\n",
    "min_theta = 0;\n",
    "max_theta = 70;\n",
    "\n",
    "% Displaying every step theta\n",
    "for theta = deg2rad(min_theta):deg2rad(step_theta):deg2rad(max_theta)\n",
    "    C = creflection(theta, e1, e2);\n",
    "    disp(C);\n",
    "end\n",
    "\n",
    "C_vect = [];\n",
    "theta_vect = [];\n",
    "\n",
    "% Plotting every delta theta\n",
    "for theta = deg2rad(min_theta):deg2rad(delta_theta):deg2rad(max_theta)\n",
    "    C_vect = [C_vect, creflection(theta, e1, e2)];\n",
    "    theta_vect = [theta_vect, theta];\n",
    "end\n",
    "\n",
    "plot(theta_vect, C_vect);"
   ]
  },
  {
   "cell_type": "code",
   "execution_count": 21,
   "metadata": {},
   "outputs": [
    {
     "name": "stdout",
     "output_type": "stream",
     "text": [
      "Created file 'C:\\Users\\user\\Documents\\MATLAB\\piecew.m'.\n"
     ]
    }
   ],
   "source": [
    "%%file piecew.m\n",
    "function V = piecew(t);\n",
    "\n",
    "if t >= 0 && t < 10\n",
    "    V = 11 * (t^2) - (5*t);\n",
    "elseif t >= 10 && t < 20\n",
    "    V = 1100 - (5*t);\n",
    "elseif t >= 20 && t <= 30\n",
    "    V = (50*t) + (2*(t-20)^2);\n",
    "elseif t > 30   \n",
    "    V = 1520 * exp(-0.2 * (t-30));\n",
    "else\n",
    "    V = 0;\n",
    "end"
   ]
  },
  {
   "cell_type": "code",
   "execution_count": 22,
   "metadata": {},
   "outputs": [
    {
     "name": "stdout",
     "output_type": "stream",
     "text": [
      "Created file 'C:\\Users\\user\\Documents\\MATLAB\\nomor4.m'.\n"
     ]
    }
   ],
   "source": [
    "%%file nomor4.m\n",
    "% Initialize vector\n",
    "T = [];\n",
    "V = [];\n",
    "\n",
    "% Set vectors\n",
    "for t = -5:0.1:50\n",
    "    T = [T, t];\n",
    "    Vtemp = piecew(t);\n",
    "    V = [V, Vtemp]; \n",
    "end\n",
    "\n",
    "plot(T, V);\n",
    "title('Voltage (V) vs Time (t)');"
   ]
  }
 ],
 "metadata": {
  "kernelspec": {
   "display_name": "Matlab",
   "language": "matlab",
   "name": "matlab"
  },
  "language_info": {
   "codemirror_mode": "octave",
   "file_extension": ".m",
   "help_links": [
    {
     "text": "MetaKernel Magics",
     "url": "https://github.com/calysto/metakernel/blob/master/metakernel/magics/README.md"
    }
   ],
   "mimetype": "text/x-octave",
   "name": "matlab",
   "version": "0.15.0"
  }
 },
 "nbformat": 4,
 "nbformat_minor": 2
}
